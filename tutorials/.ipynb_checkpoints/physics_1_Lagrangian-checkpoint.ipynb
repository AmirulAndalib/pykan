{
 "cells": [
  {
   "cell_type": "code",
   "execution_count": 82,
   "id": "66865edb",
   "metadata": {},
   "outputs": [],
   "source": [
    "from kan import *\n",
    "from kan.utils import batch_jacobian, batch_hessian\n",
    "\n",
    "torch.use_deterministic_algorithms(True)\n",
    "torch.set_default_dtype(torch.float64)\n",
    "\n",
    "seed = 0\n",
    "torch.manual_seed(seed)\n",
    "\n",
    "#example = 'harmonic_oscillator'\n",
    "#example = 'single_pendulum'\n",
    "example = 'relativistic_mass'\n",
    "\n",
    "# three examples: harmonic oscillator, single pendulum, double pendulum\n",
    "\n",
    "# dimension of q\n",
    "# Lagrangian: (q, qd) -> (qdd)\n",
    "\n",
    "if example == 'harmonic_oscillator':\n",
    "    n_sample = 1000\n",
    "    # harmonic oscillator\n",
    "    d = 1\n",
    "    q = torch.rand(size=(n_sample,1)) * 4 - 2\n",
    "    qd = torch.rand(size=(n_sample,1)) * 4 - 2\n",
    "    qdd = - q\n",
    "    x = torch.cat([q, qd], dim=1)\n",
    "    \n",
    "if example == 'single_pendulum':\n",
    "    n_sample = 1000\n",
    "    # harmonic oscillator\n",
    "    d = 1\n",
    "    q = torch.rand(size=(n_sample,1)) * 4 - 2\n",
    "    qd = torch.rand(size=(n_sample,1)) * 4 - 2\n",
    "    qdd = - torch.sin(q)\n",
    "    x = torch.cat([q, qd], dim=1)\n",
    "    \n",
    "if example == 'relativistic_mass':\n",
    "    n_sample = 10000\n",
    "    # harmonic oscillator\n",
    "    d = 1\n",
    "    q = torch.rand(size=(n_sample,1)) * 4 - 2\n",
    "    #qd = torch.rand(size=(n_sample,1)) * 1.998 - 0.999\n",
    "    #qd = 0.95 + torch.rand(size=(n_sample,1)) * 0.05\n",
    "    qd = torch.rand(size=(n_sample,1)) * 2 - 1\n",
    "    qdd = (1 - qd**2)**(3/2)\n",
    "    x = torch.cat([q, qd], dim=1)\n",
    "\n"
   ]
  },
  {
   "cell_type": "code",
   "execution_count": 83,
   "id": "ec549451",
   "metadata": {},
   "outputs": [
    {
     "name": "stdout",
     "output_type": "stream",
     "text": [
      "saving model version 0.1\n"
     ]
    }
   ],
   "source": [
    "from kan.compiler import kanpiler\n",
    "from sympy import *\n",
    "\n",
    "input_variables = symbol_x, symbol_vx = symbols('x v_x')\n",
    "expr = symbol_vx ** 2\n",
    "model = kanpiler(input_variables, expr, grid=20)"
   ]
  },
  {
   "cell_type": "code",
   "execution_count": 84,
   "id": "f9930812",
   "metadata": {},
   "outputs": [
    {
     "data": {
      "image/png": "[encoded data removed]",
      "text/plain": [
       "<Figure size 500x200 with 4 Axes>"
      ]
     },
     "metadata": {},
     "output_type": "display_data"
    }
   ],
   "source": [
    "model.get_act(x)\n",
    "model.plot()"
   ]
  },
  {
   "cell_type": "code",
   "execution_count": 85,
   "id": "74a1fb02",
   "metadata": {},
   "outputs": [
    {
     "name": "stdout",
     "output_type": "stream",
     "text": [
      "saving model version 0.2\n"
     ]
    },
    {
     "data": {
      "image/png": "[encoded data removed]",
      "text/plain": [
       "<Figure size 500x200 with 4 Axes>"
      ]
     },
     "metadata": {},
     "output_type": "display_data"
    }
   ],
   "source": [
    "model.perturb(mode='best', mag=0.1)\n",
    "model.get_act(x)\n",
    "model.plot()"
   ]
  },
  {
   "cell_type": "code",
   "execution_count": 86,
   "id": "fd0d2987",
   "metadata": {
    "scrolled": true
   },
   "outputs": [
    {
     "name": "stderr",
     "output_type": "stream",
     "text": [
      "| loss: 7.61e-05 |: 100%|███████████████████████████████████████████| 20/20 [01:21<00:00,  4.07s/it]\n"
     ]
    }
   ],
   "source": [
    "from kan import *\n",
    "from kan.utils import batch_jacobian, create_dataset_from_data\n",
    "import numpy as np\n",
    "\n",
    "torch.use_deterministic_algorithms(True)\n",
    "\n",
    "def closure():\n",
    "    \n",
    "    global loss\n",
    "    optimizer.zero_grad()\n",
    "    \n",
    "    jacobian = batch_jacobian(model, x, create_graph=True)\n",
    "    hessian = batch_hessian(model, x, create_graph=True)\n",
    "    Lqdqd = hessian[:,d:,d:]\n",
    "    Lq = jacobian[:,:d]\n",
    "    Lqqd = hessian[:,d:,:d]\n",
    "\n",
    "    Lqqd_qd_prod = torch.einsum('ijk,ik->ij', Lqqd, qd)\n",
    "\n",
    "    qdd_pred = torch.einsum('ijk,ik->ij', torch.linalg.inv(Lqdqd), Lq - Lqqd_qd_prod)\n",
    "    loss = torch.mean((qdd - qdd_pred)**2)\n",
    "\n",
    "    loss.backward()\n",
    "    return loss\n",
    "\n",
    "steps = 20\n",
    "log = 1\n",
    "optimizer = LBFGS(model.parameters(), lr=1, history_size=10, line_search_fn=\"strong_wolfe\", tolerance_grad=1e-32, tolerance_change=1e-32, tolerance_ys=1e-32)\n",
    "#optimizer = torch.optim.Adam(params, lr=1e-2)\n",
    "pbar = tqdm(range(steps), desc='description', ncols=100)\n",
    "\n",
    "\n",
    "for _ in pbar:\n",
    "    \n",
    "    # update grid\n",
    "    if _ < 5 and _ % 20 == 0:\n",
    "        model.update_grid(x)\n",
    "            \n",
    "    optimizer.step(closure)\n",
    "    \n",
    "    if _ % log == 0:\n",
    "        pbar.set_description(\"| loss: %.2e |\" % loss.cpu().detach().numpy())\n",
    "        \n",
    "        "
   ]
  },
  {
   "cell_type": "code",
   "execution_count": 87,
   "id": "782f818f",
   "metadata": {},
   "outputs": [
    {
     "data": {
      "image/png": "[encoded data removed]",
      "text/plain": [
       "<Figure size 500x200 with 4 Axes>"
      ]
     },
     "metadata": {},
     "output_type": "display_data"
    }
   ],
   "source": [
    "model.plot()"
   ]
  },
  {
   "cell_type": "code",
   "execution_count": 46,
   "id": "ad876b9d",
   "metadata": {},
   "outputs": [
    {
     "name": "stdout",
     "output_type": "stream",
     "text": [
      "fixing (0,0,0) with x, r2=0.9999996907837526, c=1\n",
      "fixing (0,1,0) with 0, r2=0.0, c=0\n",
      "saving model version 0.3\n"
     ]
    }
   ],
   "source": [
    "model.auto_symbolic()"
   ]
  },
  {
   "cell_type": "code",
   "execution_count": 80,
   "id": "e226b5ec",
   "metadata": {},
   "outputs": [
    {
     "name": "stdout",
     "output_type": "stream",
     "text": [
      "saving model version 0.5\n",
      "  function  fitting r2    r2 loss  complexity  complexity loss  total loss\n",
      "0        x    1.000000 -16.565706           1                1   -2.513141\n",
      "1      cos    1.000000 -16.599499           2                2   -1.719900\n",
      "2      sin    1.000000 -16.599499           2                2   -1.719900\n",
      "3      exp    0.999997 -16.268112           2                2   -1.653622\n",
      "4    x^0.5    0.999977 -14.896568           2                2   -1.379314\n"
     ]
    },
    {
     "data": {
      "text/plain": [
       "('x',\n",
       " (<function kan.utils.<lambda>(x)>,\n",
       "  <function kan.utils.<lambda>(x)>,\n",
       "  1,\n",
       "  <function kan.utils.<lambda>(x, y_th)>),\n",
       " 0.9999996907837526,\n",
       " 1)"
      ]
     },
     "execution_count": 80,
     "metadata": {},
     "output_type": "execute_result"
    }
   ],
   "source": [
    "model.unfix_symbolic(0,0,0)\n",
    "model.suggest_symbolic(0,0,0)"
   ]
  },
  {
   "cell_type": "code",
   "execution_count": 47,
   "id": "a93a91a3",
   "metadata": {},
   "outputs": [
    {
     "name": "stdout",
     "output_type": "stream",
     "text": [
      "saving model version 0.4\n",
      "  function  fitting r2   r2 loss  complexity  complexity loss  total loss\n",
      "0        0    0.000000  0.000014           0                0    0.000003\n",
      "1      cos    0.969503 -5.034727           2                2    0.593055\n",
      "2      x^2    0.969092 -5.015413           2                2    0.596917\n",
      "3      sin    0.965249 -4.846400           2                2    0.630720\n",
      "4        x    0.000392 -0.000551           1                1    0.799890\n"
     ]
    },
    {
     "data": {
      "text/plain": [
       "('0',\n",
       " (<function kan.utils.<lambda>(x)>,\n",
       "  <function kan.utils.<lambda>(x)>,\n",
       "  0,\n",
       "  <function kan.utils.<lambda>(x, y_th)>),\n",
       " 0.0,\n",
       " 0)"
      ]
     },
     "execution_count": 47,
     "metadata": {},
     "output_type": "execute_result"
    }
   ],
   "source": [
    "model.unfix_symbolic(0,1,0)\n",
    "model.suggest_symbolic(0,1,0)"
   ]
  },
  {
   "cell_type": "code",
   "execution_count": 88,
   "id": "bea980a5",
   "metadata": {},
   "outputs": [
    {
     "data": {
      "image/png": "[encoded data removed]",
      "text/plain": [
       "<Figure size 300x300 with 1 Axes>"
      ]
     },
     "metadata": {},
     "output_type": "display_data"
    }
   ],
   "source": [
    "x, y = model.get_fun(0,1,0)"
   ]
  },
  {
   "cell_type": "code",
   "execution_count": 89,
   "id": "86941dbe",
   "metadata": {},
   "outputs": [
    {
     "name": "stdout",
     "output_type": "stream",
     "text": [
      "checkpoint directory created: ./model\n",
      "saving model version 0.0\n",
      "saving model version 0.1\n"
     ]
    }
   ],
   "source": [
    "from kan.utils import create_dataset_from_data\n",
    "\n",
    "dataset2 = create_dataset_from_data(x[:,None], y[:,None])\n",
    "model2 = KAN(width=[1,1,1])\n",
    "model2.fix_symbolic(0,0,0,'x^2',fit_params_bool=False)"
   ]
  },
  {
   "cell_type": "code",
   "execution_count": 90,
   "id": "b6d6bc5b",
   "metadata": {},
   "outputs": [
    {
     "data": {
      "image/png": "[encoded data removed]",
      "text/plain": [
       "<Figure size 500x400 with 5 Axes>"
      ]
     },
     "metadata": {},
     "output_type": "display_data"
    }
   ],
   "source": [
    "model2.get_act(dataset2)\n",
    "model2.plot()"
   ]
  },
  {
   "cell_type": "code",
   "execution_count": 91,
   "id": "96aab86e",
   "metadata": {},
   "outputs": [
    {
     "name": "stderr",
     "output_type": "stream",
     "text": [
      "| train_loss: 4.54e-07 | test_loss: 4.43e-07 | reg: 2.16e+00 | : 100%|█| 50/50 [00:03<00:00, 12.78it"
     ]
    },
    {
     "name": "stdout",
     "output_type": "stream",
     "text": [
      "saving model version 0.2\n"
     ]
    },
    {
     "name": "stderr",
     "output_type": "stream",
     "text": [
      "\n"
     ]
    }
   ],
   "source": [
    "model2.fit(dataset2, steps=50);"
   ]
  },
  {
   "cell_type": "code",
   "execution_count": 92,
   "id": "5cc18a70",
   "metadata": {},
   "outputs": [
    {
     "data": {
      "image/png": "[encoded data removed]",
      "text/plain": [
       "<Figure size 500x400 with 5 Axes>"
      ]
     },
     "metadata": {},
     "output_type": "display_data"
    }
   ],
   "source": [
    "model2.plot()"
   ]
  },
  {
   "cell_type": "code",
   "execution_count": 93,
   "id": "a830d607",
   "metadata": {},
   "outputs": [
    {
     "name": "stdout",
     "output_type": "stream",
     "text": [
      "  function  fitting r2    r2 loss  complexity  complexity loss  total loss\n",
      "0      exp    1.000000 -16.598013           2                2   -1.719603\n",
      "1      x^2    0.999999 -16.524430           2                2   -1.704886\n",
      "2    1/x^2    0.999978 -14.910671           2                2   -1.382134\n",
      "3        x    0.999455 -10.815066           1                1   -1.363013\n",
      "4      x^5    1.000000 -16.609480           3                3   -0.921896\n"
     ]
    },
    {
     "data": {
      "text/plain": [
       "('exp',\n",
       " (<function kan.utils.<lambda>(x)>,\n",
       "  <function kan.utils.<lambda>(x)>,\n",
       "  2,\n",
       "  <function kan.utils.<lambda>(x, y_th)>),\n",
       " 0.9999999190769909,\n",
       " 2)"
      ]
     },
     "execution_count": 93,
     "metadata": {},
     "output_type": "execute_result"
    }
   ],
   "source": [
    "model2.suggest_symbolic(1,0,0)"
   ]
  },
  {
   "cell_type": "code",
   "execution_count": 72,
   "id": "b739a69b",
   "metadata": {},
   "outputs": [
    {
     "name": "stdout",
     "output_type": "stream",
     "text": [
      "Best value at boundary.\n",
      "r2 is 0.9989821969546337\n"
     ]
    },
    {
     "data": {
      "text/plain": [
       "(tensor([-9.8000,  9.8868, -0.3482,  1.2049]), tensor(0.9990))"
      ]
     },
     "execution_count": 72,
     "metadata": {},
     "output_type": "execute_result"
    }
   ],
   "source": [
    "from kan.utils import fit_params\n",
    "fit_params(x**2, y, lambda x: x**(1/2))"
   ]
  },
  {
   "cell_type": "code",
   "execution_count": 74,
   "id": "5be63452",
   "metadata": {},
   "outputs": [
    {
     "name": "stdout",
     "output_type": "stream",
     "text": [
      "skipping (0,0,0) since already symbolic\n",
      "fixing (1,0,0) with x^0.5, r2=0.9999494098870415, c=2\n",
      "saving model version 0.4\n"
     ]
    }
   ],
   "source": [
    "model2.auto_symbolic()"
   ]
  },
  {
   "cell_type": "code",
   "execution_count": 79,
   "id": "02fb179a",
   "metadata": {},
   "outputs": [
    {
     "data": {
      "text/latex": [
       "$\\displaystyle 1.19 - 1.08 \\sqrt{1 - 1.0 x_{1}^{2}}$"
      ],
      "text/plain": [
       "1.19 - 1.08*sqrt(1 - 1.0*x_1**2)"
      ]
     },
     "execution_count": 79,
     "metadata": {},
     "output_type": "execute_result"
    }
   ],
   "source": [
    "from kan.utils import ex_round\n",
    "ex_round(model2.symbolic_formula()[0][0], 2)"
   ]
  },
  {
   "cell_type": "code",
   "execution_count": null,
   "id": "a61540c1",
   "metadata": {},
   "outputs": [],
   "source": []
  }
 ],
 "metadata": {
  "kernelspec": {
   "display_name": "Python 3 (ipykernel)",
   "language": "python",
   "name": "python3"
  },
  "language_info": {
   "codemirror_mode": {
    "name": "ipython",
    "version": 3
   },
   "file_extension": ".py",
   "mimetype": "text/x-python",
   "name": "python",
   "nbconvert_exporter": "python",
   "pygments_lexer": "ipython3",
   "version": "3.9.7"
  }
 },
 "nbformat": 4,
 "nbformat_minor": 5
}
